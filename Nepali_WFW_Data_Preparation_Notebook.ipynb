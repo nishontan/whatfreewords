{
  "nbformat": 4,
  "nbformat_minor": 0,
  "metadata": {
    "colab": {
      "name": "Nepali WFW - Data Preparation Notebook.ipynb",
      "provenance": [],
      "collapsed_sections": [],
      "authorship_tag": "ABX9TyP9RStCvwrChhFgC9KrlwKR",
      "include_colab_link": true
    },
    "kernelspec": {
      "name": "python3",
      "display_name": "Python 3"
    },
    "language_info": {
      "name": "python"
    }
  },
  "cells": [
    {
      "cell_type": "markdown",
      "metadata": {
        "id": "view-in-github",
        "colab_type": "text"
      },
      "source": [
        "<a href=\"https://colab.research.google.com/github/nishontan/whatfreewords/blob/master/Nepali_WFW_Data_Preparation_Notebook.ipynb\" target=\"_parent\"><img src=\"https://colab.research.google.com/assets/colab-badge.svg\" alt=\"Open In Colab\"/></a>"
      ]
    },
    {
      "cell_type": "code",
      "metadata": {
        "colab": {
          "base_uri": "https://localhost:8080/"
        },
        "id": "g49EdoGdx9Lr",
        "outputId": "f3c27d4b-9302-48ea-b1c1-c7d8e8ab0010"
      },
      "source": [
        "!wget https://raw.githubusercontent.com/tesseract-ocr/langdata/master/nep/nep.wordlist"
      ],
      "execution_count": 6,
      "outputs": [
        {
          "output_type": "stream",
          "text": [
            "--2021-08-15 17:13:27--  https://raw.githubusercontent.com/tesseract-ocr/langdata/master/nep/nep.wordlist\n",
            "Resolving raw.githubusercontent.com (raw.githubusercontent.com)... 185.199.108.133, 185.199.109.133, 185.199.110.133, ...\n",
            "Connecting to raw.githubusercontent.com (raw.githubusercontent.com)|185.199.108.133|:443... connected.\n",
            "HTTP request sent, awaiting response... 200 OK\n",
            "Length: 692300 (676K) [text/plain]\n",
            "Saving to: ‘nep.wordlist.1’\n",
            "\n",
            "\rnep.wordlist.1        0%[                    ]       0  --.-KB/s               \rnep.wordlist.1      100%[===================>] 676.07K  --.-KB/s    in 0.007s  \n",
            "\n",
            "2021-08-15 17:13:27 (90.2 MB/s) - ‘nep.wordlist.1’ saved [692300/692300]\n",
            "\n",
            "Requirement already satisfied: tqdm in /usr/local/lib/python3.7/dist-packages (4.62.0)\n"
          ],
          "name": "stdout"
        }
      ]
    },
    {
      "cell_type": "code",
      "metadata": {
        "id": "-R_N8Q7ryCIq"
      },
      "source": [
        "import json\n",
        "\n",
        "def prepare_wlist_for_wfw(lines):\n",
        "  wlist = {}\n",
        "  for index,line in enumerate(lines):\n",
        "    line = line.strip()\n",
        "    index = str(index)\n",
        "    index = format_number(index)\n",
        "    wlist[index] = line\n",
        "  return wlist\n",
        "\n",
        "def format_number(number):\n",
        "  return number.zfill(5)\n",
        "\n",
        "def get_words():\n",
        "  with open('nep.wordlist') as f:\n",
        "    lines = f.readlines()\n",
        "  return lines\n",
        "\n",
        "def write_to_file(path,text):\n",
        "  text_file = open(path, \"wt\")\n",
        "  n = text_file.write(text)\n",
        "  text_file.close()\n"
      ],
      "execution_count": 38,
      "outputs": []
    },
    {
      "cell_type": "code",
      "metadata": {
        "id": "3qENuzn9y7MM"
      },
      "source": [
        "lines = get_words()\n",
        "wlist = prepare_wlist_for_wfw(lines)\n",
        "\n",
        "wlist = json.dumps(wlist,ensure_ascii=False)\n",
        "\n",
        "write_to_file(\"wfw.txt\",wlist)"
      ],
      "execution_count": 42,
      "outputs": []
    },
    {
      "cell_type": "code",
      "metadata": {
        "id": "JrIWKkG1zaBs"
      },
      "source": [
        ""
      ],
      "execution_count": null,
      "outputs": []
    }
  ]
}